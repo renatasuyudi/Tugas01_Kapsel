{
  "nbformat": 4,
  "nbformat_minor": 0,
  "metadata": {
    "colab": {
      "name": "crawling kelompok kapsel.ipynb",
      "provenance": [],
      "collapsed_sections": []
    },
    "kernelspec": {
      "name": "python3",
      "display_name": "Python 3"
    },
    "language_info": {
      "name": "python"
    }
  },
  "cells": [
    {
      "cell_type": "code",
      "metadata": {
        "colab": {
          "base_uri": "https://localhost:8080/"
        },
        "id": "NSSyFQD66jh8",
        "outputId": "a2312b79-ad90-4307-efa1-29f0a5b02e06"
      },
      "source": [
        "!pip install unidecode twython tweepy beautifulsoup4 tika"
      ],
      "execution_count": 1,
      "outputs": [
        {
          "output_type": "stream",
          "name": "stdout",
          "text": [
            "Collecting unidecode\n",
            "  Downloading Unidecode-1.3.2-py3-none-any.whl (235 kB)\n",
            "\u001b[?25l\r\u001b[K     |█▍                              | 10 kB 23.7 MB/s eta 0:00:01\r\u001b[K     |██▉                             | 20 kB 13.6 MB/s eta 0:00:01\r\u001b[K     |████▏                           | 30 kB 9.9 MB/s eta 0:00:01\r\u001b[K     |█████▋                          | 40 kB 9.1 MB/s eta 0:00:01\r\u001b[K     |███████                         | 51 kB 5.2 MB/s eta 0:00:01\r\u001b[K     |████████▍                       | 61 kB 5.7 MB/s eta 0:00:01\r\u001b[K     |█████████▊                      | 71 kB 5.6 MB/s eta 0:00:01\r\u001b[K     |███████████▏                    | 81 kB 6.2 MB/s eta 0:00:01\r\u001b[K     |████████████▌                   | 92 kB 6.2 MB/s eta 0:00:01\r\u001b[K     |██████████████                  | 102 kB 5.2 MB/s eta 0:00:01\r\u001b[K     |███████████████▎                | 112 kB 5.2 MB/s eta 0:00:01\r\u001b[K     |████████████████▊               | 122 kB 5.2 MB/s eta 0:00:01\r\u001b[K     |██████████████████              | 133 kB 5.2 MB/s eta 0:00:01\r\u001b[K     |███████████████████▌            | 143 kB 5.2 MB/s eta 0:00:01\r\u001b[K     |████████████████████▉           | 153 kB 5.2 MB/s eta 0:00:01\r\u001b[K     |██████████████████████▎         | 163 kB 5.2 MB/s eta 0:00:01\r\u001b[K     |███████████████████████▋        | 174 kB 5.2 MB/s eta 0:00:01\r\u001b[K     |█████████████████████████       | 184 kB 5.2 MB/s eta 0:00:01\r\u001b[K     |██████████████████████████▍     | 194 kB 5.2 MB/s eta 0:00:01\r\u001b[K     |███████████████████████████▉    | 204 kB 5.2 MB/s eta 0:00:01\r\u001b[K     |█████████████████████████████▏  | 215 kB 5.2 MB/s eta 0:00:01\r\u001b[K     |██████████████████████████████▋ | 225 kB 5.2 MB/s eta 0:00:01\r\u001b[K     |████████████████████████████████| 235 kB 5.2 MB/s eta 0:00:01\r\u001b[K     |████████████████████████████████| 235 kB 5.2 MB/s \n",
            "\u001b[?25hCollecting twython\n",
            "  Downloading twython-3.9.1-py3-none-any.whl (33 kB)\n",
            "Requirement already satisfied: tweepy in /usr/local/lib/python3.7/dist-packages (3.10.0)\n",
            "Requirement already satisfied: beautifulsoup4 in /usr/local/lib/python3.7/dist-packages (4.6.3)\n",
            "Collecting tika\n",
            "  Downloading tika-1.24.tar.gz (28 kB)\n",
            "Requirement already satisfied: requests>=2.1.0 in /usr/local/lib/python3.7/dist-packages (from twython) (2.23.0)\n",
            "Requirement already satisfied: requests-oauthlib>=0.4.0 in /usr/local/lib/python3.7/dist-packages (from twython) (1.3.0)\n",
            "Requirement already satisfied: urllib3!=1.25.0,!=1.25.1,<1.26,>=1.21.1 in /usr/local/lib/python3.7/dist-packages (from requests>=2.1.0->twython) (1.24.3)\n",
            "Requirement already satisfied: chardet<4,>=3.0.2 in /usr/local/lib/python3.7/dist-packages (from requests>=2.1.0->twython) (3.0.4)\n",
            "Requirement already satisfied: idna<3,>=2.5 in /usr/local/lib/python3.7/dist-packages (from requests>=2.1.0->twython) (2.10)\n",
            "Requirement already satisfied: certifi>=2017.4.17 in /usr/local/lib/python3.7/dist-packages (from requests>=2.1.0->twython) (2021.5.30)\n",
            "Requirement already satisfied: oauthlib>=3.0.0 in /usr/local/lib/python3.7/dist-packages (from requests-oauthlib>=0.4.0->twython) (3.1.1)\n",
            "Requirement already satisfied: six>=1.10.0 in /usr/local/lib/python3.7/dist-packages (from tweepy) (1.15.0)\n",
            "Requirement already satisfied: PySocks!=1.5.7,>=1.5.6 in /usr/local/lib/python3.7/dist-packages (from requests>=2.1.0->twython) (1.7.1)\n",
            "Requirement already satisfied: setuptools in /usr/local/lib/python3.7/dist-packages (from tika) (57.4.0)\n",
            "Building wheels for collected packages: tika\n",
            "  Building wheel for tika (setup.py) ... \u001b[?25l\u001b[?25hdone\n",
            "  Created wheel for tika: filename=tika-1.24-py3-none-any.whl size=32891 sha256=01dee4289e941aee5c240ee8d4db70f2be556ab2843b44ecdcc39a62ffc23c3c\n",
            "  Stored in directory: /root/.cache/pip/wheels/ec/2b/38/58ff05467a742e32f67f5d0de048fa046e764e2fbb25ac93f3\n",
            "Successfully built tika\n",
            "Installing collected packages: unidecode, twython, tika\n",
            "Successfully installed tika-1.24 twython-3.9.1 unidecode-1.3.2\n"
          ]
        }
      ]
    },
    {
      "cell_type": "code",
      "metadata": {
        "id": "Y7OA6Zg_63xO"
      },
      "source": [
        "import warnings; warnings.simplefilter('ignore')\n",
        "import tweepy, json, nltk, urllib.request, requests\n",
        "from urllib.request import Request, urlopen\n",
        "from twython import TwythonStreamer\n",
        "from bs4 import BeautifulSoup as bs"
      ],
      "execution_count": 2,
      "outputs": []
    },
    {
      "cell_type": "code",
      "metadata": {
        "colab": {
          "base_uri": "https://localhost:8080/",
          "height": 35
        },
        "id": "huP3ZvZF7DQd",
        "outputId": "5bd1f0ba-4eb3-4c18-dfcc-383ef429b0e4"
      },
      "source": [
        "Ck = 'gchnKJTh8AGsFnrvJgM7k76V4' # consumer_key\n",
        "Cs = '6uknHWCJKaHeboqhPtue6cSpG4n6oa0K7ysj6Myp9OYGKU809q' # consumer_secret\n",
        "At = '1437586719935631363-Syv39uMo0EayIwDPHaZcnX00kaQdjJ' # access_token\n",
        "As = 'X5TgXGdd48Yhm0lcoweyekqH1pITlktpCoQJ3ch5LSmHL' # access_secret\n",
        "'Done'"
      ],
      "execution_count": 3,
      "outputs": [
        {
          "output_type": "execute_result",
          "data": {
            "application/vnd.google.colaboratory.intrinsic+json": {
              "type": "string"
            },
            "text/plain": [
              "'Done'"
            ]
          },
          "metadata": {},
          "execution_count": 3
        }
      ]
    },
    {
      "cell_type": "code",
      "metadata": {
        "id": "qeUvdBAv7J4n"
      },
      "source": [
        "def twitter_connect(Ck, Cs, At, As, verbose = 0):\n",
        "    try:\n",
        "        auth = tweepy.OAuthHandler(Ck, Cs)\n",
        "        auth.set_access_token(At, As)\n",
        "        twitter = tweepy.API(auth, timeout=120)\n",
        "        if verbose != 0:\n",
        "            user = twitter.verify_credentials()\n",
        "            print('Welcome \"%s\" you are now connected to twitter server' %user.name)\n",
        "        return twitter\n",
        "    except:\n",
        "        print(\"Connection failed, please check your API keys or connection\")\n",
        "        return None"
      ],
      "execution_count": 4,
      "outputs": []
    },
    {
      "cell_type": "code",
      "metadata": {
        "colab": {
          "base_uri": "https://localhost:8080/"
        },
        "id": "vQYXT2b77U8S",
        "outputId": "ec6767af-bb35-4a98-b6fd-0b1bf594f0a8"
      },
      "source": [
        "# Koneksi ke twitter\n",
        "twitter = twitter_connect(Ck, Cs, At, As, verbose = 1)"
      ],
      "execution_count": 5,
      "outputs": [
        {
          "output_type": "stream",
          "name": "stdout",
          "text": [
            "Welcome \"Renata Suyudi\" you are now connected to twitter server\n"
          ]
        }
      ]
    },
    {
      "cell_type": "code",
      "metadata": {
        "colab": {
          "base_uri": "https://localhost:8080/"
        },
        "id": "erv21fgd7dFa",
        "outputId": "23ee3d45-155c-4092-e1cd-09fd51a1dd9c"
      },
      "source": [
        "# Max 30000 tweet per \"API call\"\n",
        "topic = 'covid'\n",
        "N = 100 # jumlah tweet yang ingin diambil\n",
        "bahasa = 'id'\n",
        "T = twitter.search(q=topic, lang=bahasa, count=N, tweet_mode = 'extended')\n",
        "tweets = [t._json for t in T]\n",
        "print(' Berhasil mendapatkan {} tweets'.format(len(tweets)))"
      ],
      "execution_count": 32,
      "outputs": [
        {
          "output_type": "stream",
          "name": "stdout",
          "text": [
            " Berhasil mendapatkan 100 tweets\n"
          ]
        }
      ]
    },
    {
      "cell_type": "code",
      "metadata": {
        "colab": {
          "base_uri": "https://localhost:8080/"
        },
        "id": "MeTxMh4--S6z",
        "outputId": "c8533d77-878b-411d-87dc-29fa4b59a222"
      },
      "source": [
        "# Next data\n",
        "last_id = T[-1]._json['id'] - 1\n",
        "last_id\n",
        "T = twitter.search(q=topic, lang=bahasa, count=N, tweet_mode = 'extended', max_id=last_id)\n",
        "tweets.extend([t._json for t in T])\n",
        "\n",
        "print('Jumlah data sekarang = ', len(tweets))"
      ],
      "execution_count": 33,
      "outputs": [
        {
          "output_type": "stream",
          "name": "stdout",
          "text": [
            "Jumlah data sekarang =  200\n"
          ]
        }
      ]
    },
    {
      "cell_type": "code",
      "metadata": {
        "colab": {
          "base_uri": "https://localhost:8080/"
        },
        "id": "EVJInJnl_spR",
        "outputId": "0408c9a1-fd3e-427b-f2b6-7dbd0f2cab6c"
      },
      "source": [
        "# Datanya berbentuk JSON\n",
        "tweets[0]['created_at'], tweets[0]['full_text'], "
      ],
      "execution_count": 34,
      "outputs": [
        {
          "output_type": "execute_result",
          "data": {
            "text/plain": [
              "('Mon Nov 01 15:20:55 +0000 2021',\n",
              " 'RT @AtiqZaim: Banyak iktibar yang kita boleh ambil dari COVID, antaranya:\\n\\n1. Hidup ini terlalu singkat\\n2. Pekerjaan kita hanya sementara\\n3…')"
            ]
          },
          "metadata": {},
          "execution_count": 34
        }
      ]
    },
    {
      "cell_type": "code",
      "metadata": {
        "id": "4Y6J_RrQ_x5O"
      },
      "source": [
        "def saveTweets(tweets, file='covid.json'): #in Json Format\n",
        "    with open(file, 'w') as f:\n",
        "        for t in tweets:\n",
        "            try:\n",
        "                f.write(json.dumps(t)+'\\n')\n",
        "            except:\n",
        "                pass"
      ],
      "execution_count": 35,
      "outputs": []
    },
    {
      "cell_type": "code",
      "metadata": {
        "colab": {
          "base_uri": "https://localhost:8080/"
        },
        "id": "1SRmxA-6ADd8",
        "outputId": "290ad808-8206-4b4f-b1e5-2193d774689a"
      },
      "source": [
        "# Menyimpan hasil crawling twitter\n",
        "fileName = 'datacovid.json'\n",
        "saveTweets(tweets,file=fileName)\n",
        "print('Saved to '+fileName)"
      ],
      "execution_count": 36,
      "outputs": [
        {
          "output_type": "stream",
          "name": "stdout",
          "text": [
            "Saved to datacovid.json\n"
          ]
        }
      ]
    },
    {
      "cell_type": "code",
      "metadata": {
        "id": "oVutSvhdvI9X"
      },
      "source": [
        "import pandas as pd"
      ],
      "execution_count": 37,
      "outputs": []
    },
    {
      "cell_type": "code",
      "metadata": {
        "colab": {
          "base_uri": "https://localhost:8080/"
        },
        "id": "MDKWkN3QvAKT",
        "outputId": "cd77eae8-4e90-49d5-e2dc-90a0401dae54"
      },
      "source": [
        "data = pd.read_json(\"datacovid.json\", lines=True)\n",
        "print(data)"
      ],
      "execution_count": 40,
      "outputs": [
        {
          "output_type": "stream",
          "name": "stdout",
          "text": [
            "                   created_at  ...  quoted_status\n",
            "0   2021-11-01 15:20:55+00:00  ...            NaN\n",
            "1   2021-11-01 15:20:53+00:00  ...            NaN\n",
            "2   2021-11-01 15:20:51+00:00  ...            NaN\n",
            "3   2021-11-01 15:20:51+00:00  ...            NaN\n",
            "4   2021-11-01 15:20:50+00:00  ...            NaN\n",
            "..                        ...  ...            ...\n",
            "195 2021-11-01 15:10:55+00:00  ...            NaN\n",
            "196 2021-11-01 15:10:54+00:00  ...            NaN\n",
            "197 2021-11-01 15:10:47+00:00  ...            NaN\n",
            "198 2021-11-01 15:10:45+00:00  ...            NaN\n",
            "199 2021-11-01 15:10:44+00:00  ...            NaN\n",
            "\n",
            "[200 rows x 31 columns]\n"
          ]
        }
      ]
    },
    {
      "cell_type": "code",
      "metadata": {
        "id": "mbRJh2kvvX6d",
        "colab": {
          "base_uri": "https://localhost:8080/"
        },
        "outputId": "5d6d2a48-ffcf-456f-a6c7-be567bca2ded"
      },
      "source": [
        "# Max 30000 tweet per \"API call\"\n",
        "topic = 'covid'\n",
        "N = 100 # jumlah tweet yang ingin diambil\n",
        "bahasa = 'id'\n",
        "T = twitter.search(q=topic, lang=bahasa, count=N, tweet_mode = 'extended')\n",
        "tweets = [t._json for t in T]\n",
        "print(' Berhasil mendapatkan {} tweets'.format(len(tweets)))"
      ],
      "execution_count": 46,
      "outputs": [
        {
          "output_type": "stream",
          "name": "stdout",
          "text": [
            " Berhasil mendapatkan 100 tweets\n"
          ]
        }
      ]
    },
    {
      "cell_type": "code",
      "metadata": {
        "id": "x6QDGgh1vw6O",
        "colab": {
          "base_uri": "https://localhost:8080/"
        },
        "outputId": "3cce181a-b1bf-4266-cc59-43a25b0ba97d"
      },
      "source": [
        "# Next data\n",
        "last_id = T[-1]._json['id'] - 1\n",
        "last_id\n",
        "T = twitter.search(q=topic, lang=bahasa, count=N, tweet_mode = 'extended', max_id=last_id)\n",
        "tweets.extend([t._json for t in T])\n",
        "\n",
        "print('Jumlah data sekarang = ', len(tweets))"
      ],
      "execution_count": 47,
      "outputs": [
        {
          "output_type": "stream",
          "name": "stdout",
          "text": [
            "Jumlah data sekarang =  200\n"
          ]
        }
      ]
    },
    {
      "cell_type": "code",
      "metadata": {
        "id": "C7aKkzVByVav",
        "colab": {
          "base_uri": "https://localhost:8080/"
        },
        "outputId": "bd5e9289-60a4-4ba2-c06e-b59aae6b7a26"
      },
      "source": [
        "# Datanya berbentuk JSON\n",
        "tweets[0]['created_at'], tweets[0]['full_text'], "
      ],
      "execution_count": 48,
      "outputs": [
        {
          "output_type": "execute_result",
          "data": {
            "text/plain": [
              "('Mon Nov 01 15:21:38 +0000 2021',\n",
              " 'RT @redzuanNewsMPB: Kit ujian kendiri COVID-19 kini boleh didapati pada harga serendah RM6.90 di pasaraya, kedai serbaneka, stesen minyak t…')"
            ]
          },
          "metadata": {},
          "execution_count": 48
        }
      ]
    },
    {
      "cell_type": "code",
      "metadata": {
        "id": "du5083vMyYH9"
      },
      "source": [
        "def saveTweets(tweets, file='datapandemi.json'): #in Json Format\n",
        "    with open(file, 'w') as f:\n",
        "        for t in tweets:\n",
        "            try:\n",
        "                f.write(json.dumps(t)+'\\n')\n",
        "            except:\n",
        "                pass"
      ],
      "execution_count": 49,
      "outputs": []
    },
    {
      "cell_type": "code",
      "metadata": {
        "id": "G7x402zFyhoY",
        "colab": {
          "base_uri": "https://localhost:8080/"
        },
        "outputId": "c7c2a20b-ef47-4db7-ac1c-77c2200345f4"
      },
      "source": [
        "# Menyimpan hasil crawling twitter\n",
        "fileName = 'datapandemi.json'\n",
        "saveTweets(tweets,file=fileName)\n",
        "print('Saved to '+fileName)"
      ],
      "execution_count": 50,
      "outputs": [
        {
          "output_type": "stream",
          "name": "stdout",
          "text": [
            "Saved to datapandemi.json\n"
          ]
        }
      ]
    },
    {
      "cell_type": "code",
      "metadata": {
        "id": "Uz249tS0cne7"
      },
      "source": [
        "def loadTweets(file='datapandemi.json'):\n",
        "    f=open(file,encoding='utf-8', errors ='ignore', mode='r')\n",
        "    T=f.readlines();f.close()\n",
        "    for i,t in enumerate(T):\n",
        "        T[i] = json.loads(t.strip())\n",
        "    return T"
      ],
      "execution_count": 51,
      "outputs": []
    },
    {
      "cell_type": "code",
      "metadata": {
        "id": "UJH5-TH2c1h9",
        "colab": {
          "base_uri": "https://localhost:8080/"
        },
        "outputId": "27ea0b0a-e05b-4292-e769-16bc2da61e2d"
      },
      "source": [
        "# Me-load kembali jika (misal) analisa ingin dilakukan di lain waktu\n",
        "# Sengaja nama variabelnya saya bedakan (T2)\n",
        "T2 = loadTweets(file='datapandemi.json')\n",
        "print('tweet pertama oleh \"{}\" : \"{}\"'.format(T2[0]['user']['screen_name'],T2[0]['full_text']))"
      ],
      "execution_count": 52,
      "outputs": [
        {
          "output_type": "stream",
          "name": "stdout",
          "text": [
            "tweet pertama oleh \"balbalpingu\" : \"RT @redzuanNewsMPB: Kit ujian kendiri COVID-19 kini boleh didapati pada harga serendah RM6.90 di pasaraya, kedai serbaneka, stesen minyak t…\"\n"
          ]
        }
      ]
    },
    {
      "cell_type": "code",
      "metadata": {
        "id": "x-7h5OTUyoyz"
      },
      "source": [
        "import pandas as pd"
      ],
      "execution_count": 53,
      "outputs": []
    },
    {
      "cell_type": "code",
      "metadata": {
        "id": "52VBIrR2yqg5",
        "colab": {
          "base_uri": "https://localhost:8080/"
        },
        "outputId": "0268a385-03e6-4657-b16c-5d3958105bd7"
      },
      "source": [
        "datapandemi = pd.read_json(\"datapandemi.json\", lines=True)\n",
        "print(datapandemi)"
      ],
      "execution_count": 54,
      "outputs": [
        {
          "output_type": "stream",
          "name": "stdout",
          "text": [
            "                   created_at  ...  quoted_status\n",
            "0   2021-11-01 15:21:38+00:00  ...            NaN\n",
            "1   2021-11-01 15:21:36+00:00  ...            NaN\n",
            "2   2021-11-01 15:21:36+00:00  ...            NaN\n",
            "3   2021-11-01 15:21:32+00:00  ...            NaN\n",
            "4   2021-11-01 15:21:21+00:00  ...            NaN\n",
            "..                        ...  ...            ...\n",
            "195 2021-11-01 15:11:26+00:00  ...            NaN\n",
            "196 2021-11-01 15:11:23+00:00  ...            NaN\n",
            "197 2021-11-01 15:11:23+00:00  ...            NaN\n",
            "198 2021-11-01 15:11:21+00:00  ...            NaN\n",
            "199 2021-11-01 15:11:20+00:00  ...            NaN\n",
            "\n",
            "[200 rows x 31 columns]\n"
          ]
        }
      ]
    }
  ]
}